{
  "nbformat": 4,
  "nbformat_minor": 0,
  "metadata": {
    "colab": {
      "provenance": [],
      "collapsed_sections": [],
      "authorship_tag": "ABX9TyPRQVBEUpMChNgl+UqdMc0k",
      "include_colab_link": true
    },
    "kernelspec": {
      "name": "python3",
      "display_name": "Python 3"
    },
    "language_info": {
      "name": "python"
    }
  },
  "cells": [
    {
      "cell_type": "markdown",
      "metadata": {
        "id": "view-in-github",
        "colab_type": "text"
      },
      "source": [
        "<a href=\"https://colab.research.google.com/github/Chirag314/Stacknet-creditcarddata/blob/main/Stacknet_creditcarddata.ipynb\" target=\"_parent\"><img src=\"https://colab.research.google.com/assets/colab-badge.svg\" alt=\"Open In Colab\"/></a>"
      ]
    },
    {
      "cell_type": "markdown",
      "source": [
        "###This notebook is made from exercises from book Ensemble Machine Learning Cookbook."
      ],
      "metadata": {
        "id": "de3ggC8Kv_99"
      }
    },
    {
      "cell_type": "markdown",
      "source": [
        "StackNet is available under the MIT licence. It's a scalable and analytical framework that resembles a feed-forward neural network, and uses Wolpert's stacked-generalization concept to improve accuracy in machine learning predictive tasks. It uses the notion of meta-learners, in that it uses the predictions of some algorithms as features for other algorithms. StackNet can also generalize stacking on multiple levels. It is, however, computationally intensive. It was originally developed in Java, but a lighter Python version of StackNet, named pystacknet, is now available as well.\n",
        "Let's think about how StackNet works. In the case of a neural network, the output of one layer is inserted as an input to the next layer and an activation function, such as sigmoid, tanh, or relu, is applied. Similarly, in the case of StackNet, the activation functions can be replaced with any supervised machine learning algorithm.\n",
        "\n",
        "The stacking element can be run on two modes: a normal stacking mode and a re-stacking mode. In the case of a normal stacking mode, each layer uses the predictions of the previous one. In the case of re-stacking mode, each layer uses the neurons and activations of the previous layers."
      ],
      "metadata": {
        "id": "jIDLriSFoPIm"
      }
    },
    {
      "cell_type": "code",
      "source": [
        "import os\n",
        "!git clone https://gitlab.com/YannBerthelot/kaggle_pystacknet.git\n",
        "print(os.listdir(\"kaggle_pystacknet/pystacknet\"))\n",
        "!pip install \"kaggle_pystacknet/pystacknet\"\n",
        "import pystacknet"
      ],
      "metadata": {
        "colab": {
          "base_uri": "https://localhost:8080/",
          "height": 505
        },
        "id": "QMzuwCnIEtsd",
        "outputId": "8b6d41c5-8665-4943-d2f7-5dc8ff93ec1e"
      },
      "execution_count": 7,
      "outputs": [
        {
          "output_type": "stream",
          "name": "stdout",
          "text": [
            "fatal: destination path 'kaggle_pystacknet' already exists and is not an empty directory.\n",
            "['pystacknet', 'LICENSE.txt', 'README.md', 'setup.py']\n",
            "Looking in indexes: https://pypi.org/simple, https://us-python.pkg.dev/colab-wheels/public/simple/\n",
            "Processing ./kaggle_pystacknet/pystacknet\n",
            "\u001b[33m  DEPRECATION: A future pip version will change local packages to be built in-place without first copying to a temporary directory. We recommend you use --use-feature=in-tree-build to test your packages with this new behavior before it becomes the default.\n",
            "   pip 21.3 will remove support for this functionality. You can find discussion regarding this at https://github.com/pypa/pip/issues/7555.\u001b[0m\n",
            "Requirement already satisfied: numpy>=1.14.0 in /usr/local/lib/python3.7/dist-packages (from pystacknet==0.0.1) (1.21.6)\n",
            "Requirement already satisfied: scipy>=1.1.0 in /usr/local/lib/python3.7/dist-packages (from pystacknet==0.0.1) (1.7.3)\n",
            "Requirement already satisfied: scikit-learn>=0.19.1 in /usr/local/lib/python3.7/dist-packages (from pystacknet==0.0.1) (1.0.2)\n",
            "Requirement already satisfied: threadpoolctl>=2.0.0 in /usr/local/lib/python3.7/dist-packages (from scikit-learn>=0.19.1->pystacknet==0.0.1) (3.1.0)\n",
            "Requirement already satisfied: joblib>=0.11 in /usr/local/lib/python3.7/dist-packages (from scikit-learn>=0.19.1->pystacknet==0.0.1) (1.1.0)\n",
            "Building wheels for collected packages: pystacknet\n",
            "  Building wheel for pystacknet (setup.py) ... \u001b[?25l\u001b[?25hdone\n",
            "  Created wheel for pystacknet: filename=pystacknet-0.0.1-py3-none-any.whl size=21925 sha256=0460a9103a33ac6946de328c32bfa232ebdf381d61d4974c01005c2af73b1309\n",
            "  Stored in directory: /tmp/pip-ephem-wheel-cache-48xher10/wheels/91/4b/a2/adc9ddd4368da9824c1b5e80a2179e66510246486ecbfcf953\n",
            "Successfully built pystacknet\n",
            "Installing collected packages: pystacknet\n",
            "  Attempting uninstall: pystacknet\n",
            "    Found existing installation: pystacknet 0.0.1\n",
            "    Uninstalling pystacknet-0.0.1:\n",
            "      Successfully uninstalled pystacknet-0.0.1\n",
            "Successfully installed pystacknet-0.0.1\n"
          ]
        },
        {
          "output_type": "display_data",
          "data": {
            "application/vnd.colab-display-data+json": {
              "pip_warning": {
                "packages": [
                  "pystacknet"
                ]
              }
            }
          },
          "metadata": {}
        }
      ]
    },
    {
      "cell_type": "code",
      "source": [
        "#import required libraries\n",
        "\n",
        "from sklearn.tree import DecisionTreeClassifier\n",
        "from sklearn.ensemble import RandomForestClassifier, GradientBoostingClassifier\n",
        "from sklearn.linear_model import LogisticRegression\n",
        "\n",
        "from sklearn.metrics import roc_auc_score,log_loss\n",
        "from sklearn.model_selection import StratifiedKFold\n",
        "import joblib\n",
        "import sys\n",
        "sys.modules['sklearn.externals.joblib'] = joblib\n",
        "from pystacknet.pystacknet import StackNetClassifier, StackNetRegressor\n",
        "from pystacknet.metrics import rmse,mae"
      ],
      "metadata": {
        "id": "CWjW7ISB-O8s"
      },
      "execution_count": 8,
      "outputs": []
    },
    {
      "cell_type": "code",
      "execution_count": 9,
      "metadata": {
        "colab": {
          "base_uri": "https://localhost:8080/"
        },
        "id": "rror9ooAv2jU",
        "outputId": "fea1bf8a-2251-407c-90c9-d8b2f959264f"
      },
      "outputs": [
        {
          "output_type": "stream",
          "name": "stdout",
          "text": [
            "   ID  LIMIT_BAL  SEX  EDUCATION  MARRIAGE  AGE  PAY_0  PAY_2  PAY_3  PAY_4  \\\n",
            "0   1    20000.0    2          2         1   24      2      2     -1     -1   \n",
            "1   2   120000.0    2          2         2   26     -1      2      0      0   \n",
            "2   3    90000.0    2          2         2   34      0      0      0      0   \n",
            "3   4    50000.0    2          2         1   37      0      0      0      0   \n",
            "4   5    50000.0    1          2         1   57     -1      0     -1      0   \n",
            "\n",
            "   PAY_5  PAY_6  BILL_AMT1  BILL_AMT2  BILL_AMT3  BILL_AMT4  BILL_AMT5  \\\n",
            "0     -2     -2     3913.0     3102.0      689.0        0.0        0.0   \n",
            "1      0      2     2682.0     1725.0     2682.0     3272.0     3455.0   \n",
            "2      0      0    29239.0    14027.0    13559.0    14331.0    14948.0   \n",
            "3      0      0    46990.0    48233.0    49291.0    28314.0    28959.0   \n",
            "4      0      0     8617.0     5670.0    35835.0    20940.0    19146.0   \n",
            "\n",
            "   BILL_AMT6  PAY_AMT1  PAY_AMT2  PAY_AMT3  PAY_AMT4  PAY_AMT5  PAY_AMT6  \\\n",
            "0        0.0       0.0     689.0       0.0       0.0       0.0       0.0   \n",
            "1     3261.0       0.0    1000.0    1000.0    1000.0       0.0    2000.0   \n",
            "2    15549.0    1518.0    1500.0    1000.0    1000.0    1000.0    5000.0   \n",
            "3    29547.0    2000.0    2019.0    1200.0    1100.0    1069.0    1000.0   \n",
            "4    19131.0    2000.0   36681.0   10000.0    9000.0     689.0     679.0   \n",
            "\n",
            "   default.payment.next.month  \n",
            "0                           1  \n",
            "1                           1  \n",
            "2                           0  \n",
            "3                           0  \n",
            "4                           0  \n"
          ]
        }
      ],
      "source": [
        "# Read data from github. Use raw format and copy url# Note normal url and raw url will be different.\n",
        "import pandas as pd\n",
        "pd.options.display.max_rows=None\n",
        "pd.options.display.max_columns=None\n",
        "url = 'https://raw.githubusercontent.com/PacktPublishing/Ensemble-Machine-Learning-Cookbook/master/Chapter08/UCI_Credit_Card.csv'\n",
        "df_creditcarddata= pd.read_csv(url)\n",
        "#df = pd.read_csv(url)\n",
        "print(df_creditcarddata.head(5))"
      ]
    },
    {
      "cell_type": "code",
      "source": [
        "#Drop ID columns\n",
        "df_creditcarddata.drop(['ID'],axis=1,inplace=True)\n",
        "#Check shape of data\n",
        "df_creditcarddata.shape"
      ],
      "metadata": {
        "colab": {
          "base_uri": "https://localhost:8080/"
        },
        "id": "V9gCg8741boR",
        "outputId": "9f45efec-33b6-4b33-da02-697424a82532"
      },
      "execution_count": 10,
      "outputs": [
        {
          "output_type": "execute_result",
          "data": {
            "text/plain": [
              "(30000, 24)"
            ]
          },
          "metadata": {},
          "execution_count": 10
        }
      ]
    },
    {
      "cell_type": "code",
      "source": [
        "# Create feature and response variables\n",
        "X=df_creditcarddata.iloc[:,0:23]\n",
        "\n",
        "Y=df_creditcarddata['default.payment.next.month']\n",
        "print(X.shape)\n",
        "print(Y.shape)\n"
      ],
      "metadata": {
        "id": "1YxyHEe749sY",
        "colab": {
          "base_uri": "https://localhost:8080/"
        },
        "outputId": "d177c421-80a3-4c48-a485-16659b331bf7"
      },
      "execution_count": 11,
      "outputs": [
        {
          "output_type": "stream",
          "name": "stdout",
          "text": [
            "(30000, 23)\n",
            "(30000,)\n"
          ]
        }
      ]
    },
    {
      "cell_type": "code",
      "source": [
        "from sklearn.model_selection import train_test_split\n",
        "#We first split the dataset into train and test subset\n",
        "X_train, X_test, Y_train, Y_test=train_test_split(X, Y, test_size=0.2,random_state=1)\n",
        "\n",
        "#Then we take the train subset and carve out as validation set\n",
        "#X_train, X_val, Y_train,Y_val=train_test_split(X_train,Y_train,test_size=0.2,random_state=1)"
      ],
      "metadata": {
        "id": "mO3iJsxv19TW"
      },
      "execution_count": 13,
      "outputs": []
    },
    {
      "cell_type": "code",
      "source": [
        "#Define models for base learner and meta learner\n",
        "models=[[DecisionTreeClassifier(criterion='entropy',max_depth=5,max_features=0.5,random_state=1),\n",
        "         GradientBoostingClassifier(n_estimators=100,learning_rate=0.1,max_depth=5,max_features=0.5,random_state=1),\n",
        "         LogisticRegression(random_state=1)],\n",
        "        [RandomForestClassifier(n_estimators=500,criterion='entropy',max_depth=5,max_features=0.5,random_state=1)]]"
      ],
      "metadata": {
        "id": "MPGz8CfWKyk2"
      },
      "execution_count": 14,
      "outputs": []
    },
    {
      "cell_type": "markdown",
      "source": [
        "We now use StackNetClassifier to build the stacking ensemble. However, note that we use restacking=False, which means that it uses the normal stacking mode"
      ],
      "metadata": {
        "id": "T8Yu0e0ULgbZ"
      }
    },
    {
      "cell_type": "code",
      "source": [
        "model=StackNetClassifier(models, metric=\"accuracy\",folds=4,restacking=True,use_retraining=True,use_proba=True,random_state=12345,n_jobs=1,verbose=1)\n",
        "model.fit(X_train,Y_train)\n",
        "#With restacking=True, StackNetClassifier would use the re-stacking mode to build the models.\n",
        "# USe the metaleraner model to predict the outcome\n",
        "\n",
        "preds=model.predict_proba(X_test)[:,-1]\n",
        "print(\"Test accuracy without restacking, auc %f \" % (roc_auc_score(Y_test, preds)))"
      ],
      "metadata": {
        "colab": {
          "base_uri": "https://localhost:8080/"
        },
        "id": "C3G-j3mfLhUU",
        "outputId": "19110686-80d6-4a7a-8f2b-817b65c6db81"
      },
      "execution_count": 17,
      "outputs": [
        {
          "output_type": "stream",
          "name": "stdout",
          "text": [
            "====================== Start of Level 0 ======================\n",
            "Input Dimensionality 23 at Level 0 \n",
            "3 models included in Level 0 \n"
          ]
        },
        {
          "output_type": "stream",
          "name": "stderr",
          "text": [
            "/usr/local/lib/python3.7/dist-packages/sklearn/linear_model/_logistic.py:818: ConvergenceWarning: lbfgs failed to converge (status=1):\n",
            "STOP: TOTAL NO. of ITERATIONS REACHED LIMIT.\n",
            "\n",
            "Increase the number of iterations (max_iter) or scale the data as shown in:\n",
            "    https://scikit-learn.org/stable/modules/preprocessing.html\n",
            "Please also refer to the documentation for alternative solver options:\n",
            "    https://scikit-learn.org/stable/modules/linear_model.html#logistic-regression\n",
            "  extra_warning_msg=_LOGISTIC_SOLVER_CONVERGENCE_MSG,\n"
          ]
        },
        {
          "output_type": "stream",
          "name": "stdout",
          "text": [
            "Level 0, fold 1/4 , model 0 , accuracy===0.820667 \n",
            "Level 0, fold 1/4 , model 1 , accuracy===0.818000 \n",
            "Level 0, fold 1/4 , model 2 , accuracy===0.775833 \n",
            "=========== end of fold 1 in level 0 ===========\n"
          ]
        },
        {
          "output_type": "stream",
          "name": "stderr",
          "text": [
            "/usr/local/lib/python3.7/dist-packages/sklearn/linear_model/_logistic.py:818: ConvergenceWarning: lbfgs failed to converge (status=1):\n",
            "STOP: TOTAL NO. of ITERATIONS REACHED LIMIT.\n",
            "\n",
            "Increase the number of iterations (max_iter) or scale the data as shown in:\n",
            "    https://scikit-learn.org/stable/modules/preprocessing.html\n",
            "Please also refer to the documentation for alternative solver options:\n",
            "    https://scikit-learn.org/stable/modules/linear_model.html#logistic-regression\n",
            "  extra_warning_msg=_LOGISTIC_SOLVER_CONVERGENCE_MSG,\n"
          ]
        },
        {
          "output_type": "stream",
          "name": "stdout",
          "text": [
            "Level 0, fold 2/4 , model 0 , accuracy===0.806500 \n",
            "Level 0, fold 2/4 , model 1 , accuracy===0.809667 \n",
            "Level 0, fold 2/4 , model 2 , accuracy===0.774333 \n",
            "=========== end of fold 2 in level 0 ===========\n"
          ]
        },
        {
          "output_type": "stream",
          "name": "stderr",
          "text": [
            "/usr/local/lib/python3.7/dist-packages/sklearn/linear_model/_logistic.py:818: ConvergenceWarning: lbfgs failed to converge (status=1):\n",
            "STOP: TOTAL NO. of ITERATIONS REACHED LIMIT.\n",
            "\n",
            "Increase the number of iterations (max_iter) or scale the data as shown in:\n",
            "    https://scikit-learn.org/stable/modules/preprocessing.html\n",
            "Please also refer to the documentation for alternative solver options:\n",
            "    https://scikit-learn.org/stable/modules/linear_model.html#logistic-regression\n",
            "  extra_warning_msg=_LOGISTIC_SOLVER_CONVERGENCE_MSG,\n"
          ]
        },
        {
          "output_type": "stream",
          "name": "stdout",
          "text": [
            "Level 0, fold 3/4 , model 0 , accuracy===0.829833 \n",
            "Level 0, fold 3/4 , model 1 , accuracy===0.828333 \n",
            "Level 0, fold 3/4 , model 2 , accuracy===0.782500 \n",
            "=========== end of fold 3 in level 0 ===========\n"
          ]
        },
        {
          "output_type": "stream",
          "name": "stderr",
          "text": [
            "/usr/local/lib/python3.7/dist-packages/sklearn/linear_model/_logistic.py:818: ConvergenceWarning: lbfgs failed to converge (status=1):\n",
            "STOP: TOTAL NO. of ITERATIONS REACHED LIMIT.\n",
            "\n",
            "Increase the number of iterations (max_iter) or scale the data as shown in:\n",
            "    https://scikit-learn.org/stable/modules/preprocessing.html\n",
            "Please also refer to the documentation for alternative solver options:\n",
            "    https://scikit-learn.org/stable/modules/linear_model.html#logistic-regression\n",
            "  extra_warning_msg=_LOGISTIC_SOLVER_CONVERGENCE_MSG,\n"
          ]
        },
        {
          "output_type": "stream",
          "name": "stdout",
          "text": [
            "Level 0, fold 4/4 , model 0 , accuracy===0.822000 \n",
            "Level 0, fold 4/4 , model 1 , accuracy===0.822333 \n",
            "Level 0, fold 4/4 , model 2 , accuracy===0.783833 \n",
            "=========== end of fold 4 in level 0 ===========\n",
            "Level 0, model 0 , accuracy===0.819750 \n",
            "Level 0, model 1 , accuracy===0.819583 \n",
            "Level 0, model 2 , accuracy===0.779125 \n"
          ]
        },
        {
          "output_type": "stream",
          "name": "stderr",
          "text": [
            "/usr/local/lib/python3.7/dist-packages/sklearn/linear_model/_logistic.py:818: ConvergenceWarning: lbfgs failed to converge (status=1):\n",
            "STOP: TOTAL NO. of ITERATIONS REACHED LIMIT.\n",
            "\n",
            "Increase the number of iterations (max_iter) or scale the data as shown in:\n",
            "    https://scikit-learn.org/stable/modules/preprocessing.html\n",
            "Please also refer to the documentation for alternative solver options:\n",
            "    https://scikit-learn.org/stable/modules/linear_model.html#logistic-regression\n",
            "  extra_warning_msg=_LOGISTIC_SOLVER_CONVERGENCE_MSG,\n"
          ]
        },
        {
          "output_type": "stream",
          "name": "stdout",
          "text": [
            "Output dimensionality of level 0 is 3 \n",
            "====================== End of Level 0 ======================\n",
            " level 0 lasted 36.324414 seconds \n",
            "====================== Start of Level 1 ======================\n",
            "Input Dimensionality 26 at Level 1 \n",
            "1 models included in Level 1 \n",
            "Level 1, fold 1/4 , model 0 , accuracy===0.821500 \n",
            "=========== end of fold 1 in level 1 ===========\n",
            "Level 1, fold 2/4 , model 0 , accuracy===0.807333 \n",
            "=========== end of fold 2 in level 1 ===========\n",
            "Level 1, fold 3/4 , model 0 , accuracy===0.830833 \n",
            "=========== end of fold 3 in level 1 ===========\n",
            "Level 1, fold 4/4 , model 0 , accuracy===0.825667 \n",
            "=========== end of fold 4 in level 1 ===========\n",
            "Level 1, model 0 , accuracy===0.821333 \n",
            "Output dimensionality of level 1 is 1 \n",
            "====================== End of Level 1 ======================\n",
            " level 1 lasted 221.006297 seconds \n",
            "====================== End of fit ======================\n",
            " fit() lasted 257.339550 seconds \n",
            "====================== Start of Level 0 ======================\n",
            "1 estimators included in Level 0 \n",
            "====================== Start of Level 1 ======================\n",
            "1 estimators included in Level 1 \n"
          ]
        },
        {
          "output_type": "stream",
          "name": "stderr",
          "text": [
            "/usr/local/lib/python3.7/dist-packages/sklearn/base.py:444: UserWarning: X has feature names, but DecisionTreeClassifier was fitted without feature names\n",
            "  f\"X has feature names, but {self.__class__.__name__} was fitted without\"\n",
            "/usr/local/lib/python3.7/dist-packages/sklearn/base.py:444: UserWarning: X has feature names, but GradientBoostingClassifier was fitted without feature names\n",
            "  f\"X has feature names, but {self.__class__.__name__} was fitted without\"\n",
            "/usr/local/lib/python3.7/dist-packages/sklearn/base.py:444: UserWarning: X has feature names, but LogisticRegression was fitted without feature names\n",
            "  f\"X has feature names, but {self.__class__.__name__} was fitted without\"\n"
          ]
        },
        {
          "output_type": "stream",
          "name": "stdout",
          "text": [
            "Test accuracy without restacking, auc 0.782402 \n"
          ]
        }
      ]
    }
  ]
}